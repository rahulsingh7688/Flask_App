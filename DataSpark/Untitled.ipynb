{
 "cells": [
  {
   "cell_type": "code",
   "execution_count": 41,
   "id": "2b0a46fe-e160-45ae-84ce-8e65a9165041",
   "metadata": {},
   "outputs": [
    {
     "name": "stdout",
     "output_type": "stream",
     "text": [
      " * Serving Flask app '__main__'\n",
      " * Debug mode: off\n"
     ]
    },
    {
     "name": "stderr",
     "output_type": "stream",
     "text": [
      "WARNING: This is a development server. Do not use it in a production deployment. Use a production WSGI server instead.\n",
      " * Running on http://127.0.0.1:5001\n",
      "Press CTRL+C to quit\n",
      "127.0.0.1 - - [07/Nov/2024 13:02:38] \"GET / HTTP/1.1\" 200 -\n",
      "127.0.0.1 - - [07/Nov/2024 13:02:39] \"GET /static/css/skel.css HTTP/1.1\" 200 -\n",
      "127.0.0.1 - - [07/Nov/2024 13:02:39] \"GET /static/css/style-wide.css HTTP/1.1\" 200 -\n",
      "127.0.0.1 - - [07/Nov/2024 13:02:39] \"GET /static/css/style.css HTTP/1.1\" 200 -\n",
      "127.0.0.1 - - [07/Nov/2024 13:02:39] \"GET /static/js/skel.min.js HTTP/1.1\" 200 -\n",
      "127.0.0.1 - - [07/Nov/2024 13:02:39] \"GET /static/js/jquery.dropotron.min.js HTTP/1.1\" 200 -\n",
      "127.0.0.1 - - [07/Nov/2024 13:02:39] \"GET /static/js/jquery.min.js HTTP/1.1\" 200 -\n",
      "127.0.0.1 - - [07/Nov/2024 13:02:39] \"GET /static/js/skel-layers.min.js HTTP/1.1\" 200 -\n",
      "127.0.0.1 - - [07/Nov/2024 13:02:39] \"GET /static/js/init.js HTTP/1.1\" 200 -\n",
      "127.0.0.1 - - [07/Nov/2024 13:02:39] \"GET /static/images/pic02.jpg HTTP/1.1\" 200 -\n",
      "127.0.0.1 - - [07/Nov/2024 13:02:39] \"GET /static/images/pic01.jpg HTTP/1.1\" 200 -\n",
      "127.0.0.1 - - [07/Nov/2024 13:02:39] \"GET /static/css/font-awesome.min.css HTTP/1.1\" 200 -\n",
      "127.0.0.1 - - [07/Nov/2024 13:02:39] \"GET /static/images/pic03.jpg HTTP/1.1\" 200 -\n",
      "127.0.0.1 - - [07/Nov/2024 13:02:39] \"GET /static/images/pic0.jpg HTTP/1.1\" 404 -\n",
      "127.0.0.1 - - [07/Nov/2024 13:02:45] \"GET /css/style.css HTTP/1.1\" 404 -\n",
      "127.0.0.1 - - [07/Nov/2024 13:02:45] \"GET /css/style-wide.css HTTP/1.1\" 404 -\n",
      "127.0.0.1 - - [07/Nov/2024 13:02:45] \"GET /static/images/bg.jpg HTTP/1.1\" 200 -\n",
      "127.0.0.1 - - [07/Nov/2024 13:02:45] \"GET /static/fonts/fontawesome-webfont.woff2 HTTP/1.1\" 200 -\n",
      "127.0.0.1 - - [07/Nov/2024 13:03:08] \"GET /index.html HTTP/1.1\" 404 -\n",
      "127.0.0.1 - - [07/Nov/2024 13:03:12] \"GET /left-sidebar.html HTTP/1.1\" 404 -\n"
     ]
    }
   ],
   "source": [
    "from flask import Flask, render_template\n",
    "import dash\n",
    "\n",
    "app = Flask(__name__)\n",
    "\n",
    "# Route for the main page\n",
    "@app.route('/')\n",
    "def index():\n",
    "    return render_template('index.html')\n",
    "\n",
    "# Route for left sidebar page\n",
    "@app.route('/left-sidebar')\n",
    "def left_sidebar():\n",
    "    return render_template('left-sidebar.html')\n",
    "\n",
    "# Route for no sidebar page\n",
    "@app.route('/no-sidebar')\n",
    "def no_sidebar():\n",
    "    return render_template('no-sidebar.html')\n",
    "\n",
    "# Route for right sidebar page\n",
    "@app.route('/right-sidebar')\n",
    "def right_sidebar():\n",
    "    return render_template('right-sidebar.html')\n",
    "\n",
    "# Run the application\n",
    "if __name__ == '__main__':\n",
    "    app.run(threaded=True, port=5001)"
   ]
  },
  {
   "cell_type": "code",
   "execution_count": 33,
   "id": "aacd4141-c819-4a2b-82b3-6c537892bb63",
   "metadata": {},
   "outputs": [
    {
     "name": "stdout",
     "output_type": "stream",
     "text": [
      "Collecting dash\n",
      "  Using cached dash-2.18.2-py3-none-any.whl.metadata (10 kB)\n",
      "Requirement already satisfied: Flask<3.1,>=1.0.4 in c:\\users\\rahul.s\\myenvflask\\lib\\site-packages (from dash) (3.0.3)\n",
      "Collecting Werkzeug<3.1 (from dash)\n",
      "  Downloading werkzeug-3.0.6-py3-none-any.whl.metadata (3.7 kB)\n",
      "Collecting plotly>=5.0.0 (from dash)\n",
      "  Using cached plotly-5.24.1-py3-none-any.whl.metadata (7.3 kB)\n",
      "Collecting dash-html-components==2.0.0 (from dash)\n",
      "  Using cached dash_html_components-2.0.0-py3-none-any.whl.metadata (3.8 kB)\n",
      "Collecting dash-core-components==2.0.0 (from dash)\n",
      "  Using cached dash_core_components-2.0.0-py3-none-any.whl.metadata (2.9 kB)\n",
      "Collecting dash-table==5.0.0 (from dash)\n",
      "  Using cached dash_table-5.0.0-py3-none-any.whl.metadata (2.4 kB)\n",
      "Collecting importlib-metadata (from dash)\n",
      "  Using cached importlib_metadata-8.5.0-py3-none-any.whl.metadata (4.8 kB)\n",
      "Collecting typing-extensions>=4.1.1 (from dash)\n",
      "  Using cached typing_extensions-4.12.2-py3-none-any.whl.metadata (3.0 kB)\n",
      "Requirement already satisfied: requests in c:\\users\\rahul.s\\myenvflask\\lib\\site-packages (from dash) (2.32.3)\n",
      "Collecting retrying (from dash)\n",
      "  Using cached retrying-1.3.4-py3-none-any.whl.metadata (6.9 kB)\n",
      "Requirement already satisfied: nest-asyncio in c:\\users\\rahul.s\\myenvflask\\lib\\site-packages (from dash) (1.6.0)\n",
      "Requirement already satisfied: setuptools in c:\\users\\rahul.s\\myenvflask\\lib\\site-packages (from dash) (75.3.0)\n",
      "Requirement already satisfied: Jinja2>=3.1.2 in c:\\users\\rahul.s\\myenvflask\\lib\\site-packages (from Flask<3.1,>=1.0.4->dash) (3.1.4)\n",
      "Requirement already satisfied: itsdangerous>=2.1.2 in c:\\users\\rahul.s\\myenvflask\\lib\\site-packages (from Flask<3.1,>=1.0.4->dash) (2.2.0)\n",
      "Requirement already satisfied: click>=8.1.3 in c:\\users\\rahul.s\\myenvflask\\lib\\site-packages (from Flask<3.1,>=1.0.4->dash) (8.1.7)\n",
      "Requirement already satisfied: blinker>=1.6.2 in c:\\users\\rahul.s\\myenvflask\\lib\\site-packages (from Flask<3.1,>=1.0.4->dash) (1.8.2)\n",
      "Collecting tenacity>=6.2.0 (from plotly>=5.0.0->dash)\n",
      "  Using cached tenacity-9.0.0-py3-none-any.whl.metadata (1.2 kB)\n",
      "Requirement already satisfied: packaging in c:\\users\\rahul.s\\myenvflask\\lib\\site-packages (from plotly>=5.0.0->dash) (24.1)\n",
      "Requirement already satisfied: MarkupSafe>=2.1.1 in c:\\users\\rahul.s\\myenvflask\\lib\\site-packages (from Werkzeug<3.1->dash) (3.0.2)\n",
      "Collecting zipp>=3.20 (from importlib-metadata->dash)\n",
      "  Using cached zipp-3.20.2-py3-none-any.whl.metadata (3.7 kB)\n",
      "Requirement already satisfied: charset-normalizer<4,>=2 in c:\\users\\rahul.s\\myenvflask\\lib\\site-packages (from requests->dash) (3.4.0)\n",
      "Requirement already satisfied: idna<4,>=2.5 in c:\\users\\rahul.s\\myenvflask\\lib\\site-packages (from requests->dash) (3.10)\n",
      "Requirement already satisfied: urllib3<3,>=1.21.1 in c:\\users\\rahul.s\\myenvflask\\lib\\site-packages (from requests->dash) (2.2.3)\n",
      "Requirement already satisfied: certifi>=2017.4.17 in c:\\users\\rahul.s\\myenvflask\\lib\\site-packages (from requests->dash) (2024.8.30)\n",
      "Requirement already satisfied: six>=1.7.0 in c:\\users\\rahul.s\\myenvflask\\lib\\site-packages (from retrying->dash) (1.16.0)\n",
      "Requirement already satisfied: colorama in c:\\users\\rahul.s\\myenvflask\\lib\\site-packages (from click>=8.1.3->Flask<3.1,>=1.0.4->dash) (0.4.6)\n",
      "Using cached dash-2.18.2-py3-none-any.whl (7.8 MB)\n",
      "Using cached dash_core_components-2.0.0-py3-none-any.whl (3.8 kB)\n",
      "Using cached dash_html_components-2.0.0-py3-none-any.whl (4.1 kB)\n",
      "Using cached dash_table-5.0.0-py3-none-any.whl (3.9 kB)\n",
      "Using cached plotly-5.24.1-py3-none-any.whl (19.1 MB)\n",
      "Using cached typing_extensions-4.12.2-py3-none-any.whl (37 kB)\n",
      "Downloading werkzeug-3.0.6-py3-none-any.whl (227 kB)\n",
      "   ---------------------------------------- 0.0/228.0 kB ? eta -:--:--\n",
      "   - -------------------------------------- 10.2/228.0 kB ? eta -:--:--\n",
      "   - -------------------------------------- 10.2/228.0 kB ? eta -:--:--\n",
      "   - -------------------------------------- 10.2/228.0 kB ? eta -:--:--\n",
      "   ----- --------------------------------- 30.7/228.0 kB 145.2 kB/s eta 0:00:02\n",
      "   ------- ------------------------------- 41.0/228.0 kB 151.3 kB/s eta 0:00:02\n",
      "   ------- ------------------------------- 41.0/228.0 kB 151.3 kB/s eta 0:00:02\n",
      "   --------------- ----------------------- 92.2/228.0 kB 275.8 kB/s eta 0:00:01\n",
      "   ----------------- -------------------- 102.4/228.0 kB 294.4 kB/s eta 0:00:01\n",
      "   -------------------------------------  225.3/228.0 kB 550.0 kB/s eta 0:00:01\n",
      "   -------------------------------------  225.3/228.0 kB 550.0 kB/s eta 0:00:01\n",
      "   -------------------------------------  225.3/228.0 kB 550.0 kB/s eta 0:00:01\n",
      "   -------------------------------------- 228.0/228.0 kB 422.0 kB/s eta 0:00:00\n",
      "Using cached importlib_metadata-8.5.0-py3-none-any.whl (26 kB)\n",
      "Using cached retrying-1.3.4-py3-none-any.whl (11 kB)\n",
      "Using cached tenacity-9.0.0-py3-none-any.whl (28 kB)\n",
      "Using cached zipp-3.20.2-py3-none-any.whl (9.2 kB)\n",
      "Installing collected packages: dash-table, dash-html-components, dash-core-components, zipp, Werkzeug, typing-extensions, tenacity, retrying, plotly, importlib-metadata, dash\n",
      "  Attempting uninstall: Werkzeug\n",
      "    Found existing installation: Werkzeug 3.1.2\n",
      "    Uninstalling Werkzeug-3.1.2:\n",
      "      Successfully uninstalled Werkzeug-3.1.2\n",
      "Successfully installed Werkzeug-3.0.6 dash-2.18.2 dash-core-components-2.0.0 dash-html-components-2.0.0 dash-table-5.0.0 importlib-metadata-8.5.0 plotly-5.24.1 retrying-1.3.4 tenacity-9.0.0 typing-extensions-4.12.2 zipp-3.20.2\n",
      "Note: you may need to restart the kernel to use updated packages.\n"
     ]
    },
    {
     "name": "stderr",
     "output_type": "stream",
     "text": [
      "\n",
      "[notice] A new release of pip is available: 24.0 -> 24.3.1\n",
      "[notice] To update, run: C:\\Users\\rahul.s\\myenvflask\\Scripts\\python.exe -m pip install --upgrade pip\n"
     ]
    }
   ],
   "source": []
  },
  {
   "cell_type": "code",
   "execution_count": null,
   "id": "bfd04886-18d0-4896-9325-6e5c12d7835a",
   "metadata": {},
   "outputs": [],
   "source": []
  }
 ],
 "metadata": {
  "kernelspec": {
   "display_name": "Python (myenvflask)",
   "language": "python",
   "name": "myenvflask"
  },
  "language_info": {
   "codemirror_mode": {
    "name": "ipython",
    "version": 3
   },
   "file_extension": ".py",
   "mimetype": "text/x-python",
   "name": "python",
   "nbconvert_exporter": "python",
   "pygments_lexer": "ipython3",
   "version": "3.12.4"
  }
 },
 "nbformat": 4,
 "nbformat_minor": 5
}
