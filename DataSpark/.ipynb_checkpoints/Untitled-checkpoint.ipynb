{
 "cells": [
  {
   "cell_type": "code",
   "execution_count": null,
   "id": "2b0a46fe-e160-45ae-84ce-8e65a9165041",
   "metadata": {},
   "outputs": [
    {
     "name": "stdout",
     "output_type": "stream",
     "text": [
      " * Serving Flask app '__main__'\n",
      " * Debug mode: off\n"
     ]
    },
    {
     "name": "stderr",
     "output_type": "stream",
     "text": [
      "WARNING: This is a development server. Do not use it in a production deployment. Use a production WSGI server instead.\n",
      " * Running on http://127.0.0.1:5001\n",
      "Press CTRL+C to quit\n",
      "127.0.0.1 - - [07/Nov/2024 13:02:38] \"GET / HTTP/1.1\" 200 -\n",
      "127.0.0.1 - - [07/Nov/2024 13:02:39] \"GET /static/css/skel.css HTTP/1.1\" 200 -\n",
      "127.0.0.1 - - [07/Nov/2024 13:02:39] \"GET /static/css/style-wide.css HTTP/1.1\" 200 -\n",
      "127.0.0.1 - - [07/Nov/2024 13:02:39] \"GET /static/css/style.css HTTP/1.1\" 200 -\n",
      "127.0.0.1 - - [07/Nov/2024 13:02:39] \"GET /static/js/skel.min.js HTTP/1.1\" 200 -\n",
      "127.0.0.1 - - [07/Nov/2024 13:02:39] \"GET /static/js/jquery.dropotron.min.js HTTP/1.1\" 200 -\n"
     ]
    }
   ],
   "source": [
    "from flask import Flask, render_template\n",
    "\n",
    "app = Flask(__name__)\n",
    "\n",
    "# Route for the main page\n",
    "@app.route('/')\n",
    "def index():\n",
    "    return render_template('index.html')\n",
    "\n",
    "# Route for left sidebar page\n",
    "@app.route('/left-sidebar')\n",
    "def left_sidebar():\n",
    "    return render_template('left-sidebar.html')\n",
    "\n",
    "# Route for no sidebar page\n",
    "@app.route('/no-sidebar')\n",
    "def no_sidebar():\n",
    "    return render_template('no-sidebar.html')\n",
    "\n",
    "# Route for right sidebar page\n",
    "@app.route('/right-sidebar')\n",
    "def right_sidebar():\n",
    "    return render_template('right-sidebar.html')\n",
    "\n",
    "# Run the application\n",
    "if __name__ == '__main__':\n",
    "    app.run(threaded=True, port=5001)"
   ]
  },
  {
   "cell_type": "code",
   "execution_count": 27,
   "id": "a53cf085-35d7-45f2-86b6-232c17b7b3fd",
   "metadata": {},
   "outputs": [
    {
     "ename": "ModuleNotFoundError",
     "evalue": "No module named 'pandas'",
     "output_type": "error",
     "traceback": [
      "\u001b[1;31m---------------------------------------------------------------------------\u001b[0m",
      "\u001b[1;31mModuleNotFoundError\u001b[0m                       Traceback (most recent call last)",
      "Cell \u001b[1;32mIn[27], line 1\u001b[0m\n\u001b[1;32m----> 1\u001b[0m \u001b[38;5;28;01mimport\u001b[39;00m \u001b[38;5;21;01mpandas\u001b[39;00m \u001b[38;5;28;01mas\u001b[39;00m \u001b[38;5;21;01mpd\u001b[39;00m\n\u001b[0;32m      3\u001b[0m \u001b[38;5;28;01mdef\u001b[39;00m \u001b[38;5;21mis_data_frame\u001b[39m(v: \u001b[38;5;28mstr\u001b[39m):\n\u001b[0;32m      4\u001b[0m     obj \u001b[38;5;241m=\u001b[39m \u001b[38;5;28meval\u001b[39m(v)\n",
      "\u001b[1;31mModuleNotFoundError\u001b[0m: No module named 'pandas'"
     ]
    }
   ],
   "source": [
    "import pandas as pd\n",
    "\n",
    "def is_data_frame(v: str):\n",
    "    obj = eval(v)\n",
    "    if isinstance(obj, pd.DataFrame) or isinstance(obj, pd.Series):\n",
    "        return True\n",
    "    return False"
   ]
  },
  {
   "cell_type": "code",
   "execution_count": 31,
   "id": "cc898e68-ee0e-48de-b3e2-8b5aaffb391d",
   "metadata": {},
   "outputs": [
    {
     "ename": "AttributeError",
     "evalue": "'bool' object has no attribute 'core'",
     "output_type": "error",
     "traceback": [
      "\u001b[1;31m---------------------------------------------------------------------------\u001b[0m",
      "\u001b[1;31mAttributeError\u001b[0m                            Traceback (most recent call last)",
      "Cell \u001b[1;32mIn[30], line 57\u001b[0m\n\u001b[0;32m     53\u001b[0m     result \u001b[38;5;241m=\u001b[39m {\u001b[38;5;124m\"\u001b[39m\u001b[38;5;124mdataframes\u001b[39m\u001b[38;5;124m\"\u001b[39m: dataframes, \u001b[38;5;124m\"\u001b[39m\u001b[38;5;124muser\u001b[39m\u001b[38;5;124m\"\u001b[39m: user}\n\u001b[0;32m     54\u001b[0m     \u001b[38;5;28;01mreturn\u001b[39;00m json\u001b[38;5;241m.\u001b[39mdumps(result, ensure_ascii\u001b[38;5;241m=\u001b[39m\u001b[38;5;28;01mFalse\u001b[39;00m)\n\u001b[1;32m---> 57\u001b[0m \u001b[43mget_dataframes\u001b[49m\u001b[43m(\u001b[49m\u001b[43m)\u001b[49m\n",
      "Cell \u001b[1;32mIn[30], line 51\u001b[0m, in \u001b[0;36mget_dataframes\u001b[1;34m()\u001b[0m\n\u001b[0;32m     41\u001b[0m user \u001b[38;5;241m=\u001b[39m getpass\u001b[38;5;241m.\u001b[39mgetuser()\n\u001b[0;32m     42\u001b[0m values \u001b[38;5;241m=\u001b[39m get_ipython()\u001b[38;5;241m.\u001b[39mrun_line_magic(\u001b[38;5;124m'\u001b[39m\u001b[38;5;124mwho_ls\u001b[39m\u001b[38;5;124m'\u001b[39m, \u001b[38;5;124m'\u001b[39m\u001b[38;5;124m'\u001b[39m)\n\u001b[0;32m     43\u001b[0m dataframes \u001b[38;5;241m=\u001b[39m [\n\u001b[0;32m     44\u001b[0m     {\n\u001b[0;32m     45\u001b[0m         \u001b[38;5;124m\"\u001b[39m\u001b[38;5;124mname\u001b[39m\u001b[38;5;124m\"\u001b[39m: var,\n\u001b[0;32m     46\u001b[0m         \u001b[38;5;124m\"\u001b[39m\u001b[38;5;124mtype\u001b[39m\u001b[38;5;124m\"\u001b[39m: \u001b[38;5;28mtype\u001b[39m(\u001b[38;5;28meval\u001b[39m(var))\u001b[38;5;241m.\u001b[39m\u001b[38;5;18m__name__\u001b[39m,\n\u001b[0;32m     47\u001b[0m         \u001b[38;5;124m\"\u001b[39m\u001b[38;5;124mhash\u001b[39m\u001b[38;5;124m\"\u001b[39m: dataframe_hash(var),\n\u001b[0;32m     48\u001b[0m         \u001b[38;5;124m\"\u001b[39m\u001b[38;5;124mcols\u001b[39m\u001b[38;5;124m\"\u001b[39m: dataframe_columns(var),\n\u001b[0;32m     49\u001b[0m         \u001b[38;5;124m\"\u001b[39m\u001b[38;5;124mdtypesStr\u001b[39m\u001b[38;5;124m\"\u001b[39m: dtypes_str(var),\n\u001b[0;32m     50\u001b[0m     }\n\u001b[1;32m---> 51\u001b[0m     \u001b[38;5;28;01mfor\u001b[39;00m var \u001b[38;5;129;01min\u001b[39;00m values \u001b[38;5;28;01mif\u001b[39;00m \u001b[43mis_data_frame\u001b[49m\u001b[43m(\u001b[49m\u001b[43mvar\u001b[49m\u001b[43m)\u001b[49m\n\u001b[0;32m     52\u001b[0m ]\n\u001b[0;32m     53\u001b[0m result \u001b[38;5;241m=\u001b[39m {\u001b[38;5;124m\"\u001b[39m\u001b[38;5;124mdataframes\u001b[39m\u001b[38;5;124m\"\u001b[39m: dataframes, \u001b[38;5;124m\"\u001b[39m\u001b[38;5;124muser\u001b[39m\u001b[38;5;124m\"\u001b[39m: user}\n\u001b[0;32m     54\u001b[0m \u001b[38;5;28;01mreturn\u001b[39;00m json\u001b[38;5;241m.\u001b[39mdumps(result, ensure_ascii\u001b[38;5;241m=\u001b[39m\u001b[38;5;28;01mFalse\u001b[39;00m)\n",
      "Cell \u001b[1;32mIn[30], line 17\u001b[0m, in \u001b[0;36mis_data_frame\u001b[1;34m(v)\u001b[0m\n\u001b[0;32m     15\u001b[0m \u001b[38;5;28;01mdef\u001b[39;00m \u001b[38;5;21mis_data_frame\u001b[39m(v: \u001b[38;5;28mstr\u001b[39m):\n\u001b[0;32m     16\u001b[0m     obj \u001b[38;5;241m=\u001b[39m \u001b[38;5;28meval\u001b[39m(v)\n\u001b[1;32m---> 17\u001b[0m     \u001b[38;5;28;01mif\u001b[39;00m  \u001b[38;5;28misinstance\u001b[39m(obj, \u001b[43m__pandas\u001b[49m\u001b[38;5;241;43m.\u001b[39;49m\u001b[43mcore\u001b[49m\u001b[38;5;241m.\u001b[39mframe\u001b[38;5;241m.\u001b[39mDataFrame) \u001b[38;5;129;01mor\u001b[39;00m \u001b[38;5;28misinstance\u001b[39m(obj, __pandas\u001b[38;5;241m.\u001b[39mcore\u001b[38;5;241m.\u001b[39mseries\u001b[38;5;241m.\u001b[39mSeries):\n\u001b[0;32m     18\u001b[0m         \u001b[38;5;28;01mreturn\u001b[39;00m \u001b[38;5;28;01mTrue\u001b[39;00m\n",
      "\u001b[1;31mAttributeError\u001b[0m: 'bool' object has no attribute 'core'"
     ]
    }
   ],
   "source": [
    "%tb"
   ]
  },
  {
   "cell_type": "code",
   "execution_count": 33,
   "id": "aacd4141-c819-4a2b-82b3-6c537892bb63",
   "metadata": {},
   "outputs": [
    {
     "name": "stdout",
     "output_type": "stream",
     "text": [
      "Collecting dash\n",
      "  Using cached dash-2.18.2-py3-none-any.whl.metadata (10 kB)\n",
      "Requirement already satisfied: Flask<3.1,>=1.0.4 in c:\\users\\rahul.s\\myenvflask\\lib\\site-packages (from dash) (3.0.3)\n",
      "Collecting Werkzeug<3.1 (from dash)\n",
      "  Downloading werkzeug-3.0.6-py3-none-any.whl.metadata (3.7 kB)\n",
      "Collecting plotly>=5.0.0 (from dash)\n",
      "  Using cached plotly-5.24.1-py3-none-any.whl.metadata (7.3 kB)\n",
      "Collecting dash-html-components==2.0.0 (from dash)\n",
      "  Using cached dash_html_components-2.0.0-py3-none-any.whl.metadata (3.8 kB)\n",
      "Collecting dash-core-components==2.0.0 (from dash)\n",
      "  Using cached dash_core_components-2.0.0-py3-none-any.whl.metadata (2.9 kB)\n",
      "Collecting dash-table==5.0.0 (from dash)\n",
      "  Using cached dash_table-5.0.0-py3-none-any.whl.metadata (2.4 kB)\n",
      "Collecting importlib-metadata (from dash)\n",
      "  Using cached importlib_metadata-8.5.0-py3-none-any.whl.metadata (4.8 kB)\n",
      "Collecting typing-extensions>=4.1.1 (from dash)\n",
      "  Using cached typing_extensions-4.12.2-py3-none-any.whl.metadata (3.0 kB)\n",
      "Requirement already satisfied: requests in c:\\users\\rahul.s\\myenvflask\\lib\\site-packages (from dash) (2.32.3)\n",
      "Collecting retrying (from dash)\n",
      "  Using cached retrying-1.3.4-py3-none-any.whl.metadata (6.9 kB)\n",
      "Requirement already satisfied: nest-asyncio in c:\\users\\rahul.s\\myenvflask\\lib\\site-packages (from dash) (1.6.0)\n",
      "Requirement already satisfied: setuptools in c:\\users\\rahul.s\\myenvflask\\lib\\site-packages (from dash) (75.3.0)\n",
      "Requirement already satisfied: Jinja2>=3.1.2 in c:\\users\\rahul.s\\myenvflask\\lib\\site-packages (from Flask<3.1,>=1.0.4->dash) (3.1.4)\n",
      "Requirement already satisfied: itsdangerous>=2.1.2 in c:\\users\\rahul.s\\myenvflask\\lib\\site-packages (from Flask<3.1,>=1.0.4->dash) (2.2.0)\n",
      "Requirement already satisfied: click>=8.1.3 in c:\\users\\rahul.s\\myenvflask\\lib\\site-packages (from Flask<3.1,>=1.0.4->dash) (8.1.7)\n",
      "Requirement already satisfied: blinker>=1.6.2 in c:\\users\\rahul.s\\myenvflask\\lib\\site-packages (from Flask<3.1,>=1.0.4->dash) (1.8.2)\n",
      "Collecting tenacity>=6.2.0 (from plotly>=5.0.0->dash)\n",
      "  Using cached tenacity-9.0.0-py3-none-any.whl.metadata (1.2 kB)\n",
      "Requirement already satisfied: packaging in c:\\users\\rahul.s\\myenvflask\\lib\\site-packages (from plotly>=5.0.0->dash) (24.1)\n",
      "Requirement already satisfied: MarkupSafe>=2.1.1 in c:\\users\\rahul.s\\myenvflask\\lib\\site-packages (from Werkzeug<3.1->dash) (3.0.2)\n",
      "Collecting zipp>=3.20 (from importlib-metadata->dash)\n",
      "  Using cached zipp-3.20.2-py3-none-any.whl.metadata (3.7 kB)\n",
      "Requirement already satisfied: charset-normalizer<4,>=2 in c:\\users\\rahul.s\\myenvflask\\lib\\site-packages (from requests->dash) (3.4.0)\n",
      "Requirement already satisfied: idna<4,>=2.5 in c:\\users\\rahul.s\\myenvflask\\lib\\site-packages (from requests->dash) (3.10)\n",
      "Requirement already satisfied: urllib3<3,>=1.21.1 in c:\\users\\rahul.s\\myenvflask\\lib\\site-packages (from requests->dash) (2.2.3)\n",
      "Requirement already satisfied: certifi>=2017.4.17 in c:\\users\\rahul.s\\myenvflask\\lib\\site-packages (from requests->dash) (2024.8.30)\n",
      "Requirement already satisfied: six>=1.7.0 in c:\\users\\rahul.s\\myenvflask\\lib\\site-packages (from retrying->dash) (1.16.0)\n",
      "Requirement already satisfied: colorama in c:\\users\\rahul.s\\myenvflask\\lib\\site-packages (from click>=8.1.3->Flask<3.1,>=1.0.4->dash) (0.4.6)\n",
      "Using cached dash-2.18.2-py3-none-any.whl (7.8 MB)\n",
      "Using cached dash_core_components-2.0.0-py3-none-any.whl (3.8 kB)\n",
      "Using cached dash_html_components-2.0.0-py3-none-any.whl (4.1 kB)\n",
      "Using cached dash_table-5.0.0-py3-none-any.whl (3.9 kB)\n",
      "Using cached plotly-5.24.1-py3-none-any.whl (19.1 MB)\n",
      "Using cached typing_extensions-4.12.2-py3-none-any.whl (37 kB)\n",
      "Downloading werkzeug-3.0.6-py3-none-any.whl (227 kB)\n",
      "   ---------------------------------------- 0.0/228.0 kB ? eta -:--:--\n",
      "   - -------------------------------------- 10.2/228.0 kB ? eta -:--:--\n",
      "   - -------------------------------------- 10.2/228.0 kB ? eta -:--:--\n",
      "   - -------------------------------------- 10.2/228.0 kB ? eta -:--:--\n",
      "   ----- --------------------------------- 30.7/228.0 kB 145.2 kB/s eta 0:00:02\n",
      "   ------- ------------------------------- 41.0/228.0 kB 151.3 kB/s eta 0:00:02\n",
      "   ------- ------------------------------- 41.0/228.0 kB 151.3 kB/s eta 0:00:02\n",
      "   --------------- ----------------------- 92.2/228.0 kB 275.8 kB/s eta 0:00:01\n",
      "   ----------------- -------------------- 102.4/228.0 kB 294.4 kB/s eta 0:00:01\n",
      "   -------------------------------------  225.3/228.0 kB 550.0 kB/s eta 0:00:01\n",
      "   -------------------------------------  225.3/228.0 kB 550.0 kB/s eta 0:00:01\n",
      "   -------------------------------------  225.3/228.0 kB 550.0 kB/s eta 0:00:01\n",
      "   -------------------------------------- 228.0/228.0 kB 422.0 kB/s eta 0:00:00\n",
      "Using cached importlib_metadata-8.5.0-py3-none-any.whl (26 kB)\n",
      "Using cached retrying-1.3.4-py3-none-any.whl (11 kB)\n",
      "Using cached tenacity-9.0.0-py3-none-any.whl (28 kB)\n",
      "Using cached zipp-3.20.2-py3-none-any.whl (9.2 kB)\n",
      "Installing collected packages: dash-table, dash-html-components, dash-core-components, zipp, Werkzeug, typing-extensions, tenacity, retrying, plotly, importlib-metadata, dash\n",
      "  Attempting uninstall: Werkzeug\n",
      "    Found existing installation: Werkzeug 3.1.2\n",
      "    Uninstalling Werkzeug-3.1.2:\n",
      "      Successfully uninstalled Werkzeug-3.1.2\n",
      "Successfully installed Werkzeug-3.0.6 dash-2.18.2 dash-core-components-2.0.0 dash-html-components-2.0.0 dash-table-5.0.0 importlib-metadata-8.5.0 plotly-5.24.1 retrying-1.3.4 tenacity-9.0.0 typing-extensions-4.12.2 zipp-3.20.2\n",
      "Note: you may need to restart the kernel to use updated packages.\n"
     ]
    },
    {
     "name": "stderr",
     "output_type": "stream",
     "text": [
      "\n",
      "[notice] A new release of pip is available: 24.0 -> 24.3.1\n",
      "[notice] To update, run: C:\\Users\\rahul.s\\myenvflask\\Scripts\\python.exe -m pip install --upgrade pip\n"
     ]
    }
   ],
   "source": [
    "pip install dash"
   ]
  },
  {
   "cell_type": "code",
   "execution_count": null,
   "id": "bfd04886-18d0-4896-9325-6e5c12d7835a",
   "metadata": {},
   "outputs": [],
   "source": []
  }
 ],
 "metadata": {
  "kernelspec": {
   "display_name": "Python (myenvflask)",
   "language": "python",
   "name": "myenvflask"
  },
  "language_info": {
   "codemirror_mode": {
    "name": "ipython",
    "version": 3
   },
   "file_extension": ".py",
   "mimetype": "text/x-python",
   "name": "python",
   "nbconvert_exporter": "python",
   "pygments_lexer": "ipython3",
   "version": "3.12.4"
  }
 },
 "nbformat": 4,
 "nbformat_minor": 5
}
